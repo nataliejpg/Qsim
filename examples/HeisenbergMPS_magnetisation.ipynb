{
 "cells": [
  {
   "cell_type": "markdown",
   "metadata": {},
   "source": [
    "# Create MPS "
   ]
  },
  {
   "cell_type": "code",
   "execution_count": 15,
   "metadata": {
    "collapsed": true
   },
   "outputs": [],
   "source": [
    "import numpy as np\n",
    "from numpy import linalg as LA\n",
    "import matplotlib.pyplot as plt\n",
    "% matplotlib inline\n",
    "from IPython.display import Latex\n",
    "import math\n",
    "#import scipy.special\n",
    "#import scipy.constants as sc\n",
    "from scipy import sparse as sparse\n",
    "from scipy.sparse import linalg\n",
    "import gc"
   ]
  },
  {
   "cell_type": "markdown",
   "metadata": {},
   "source": [
    "### Create a random MPS for sites 1-L, of local dimension d and of mximal bond dimension D"
   ]
  },
  {
   "cell_type": "code",
   "execution_count": 2,
   "metadata": {
    "collapsed": true
   },
   "outputs": [],
   "source": [
    "# Define the dagger function (transpose conjugate is too long to type everytime)\n",
    "def dagger(A):\n",
    "    return np.conjugate(np.transpose(A))"
   ]
  },
  {
   "cell_type": "code",
   "execution_count": 17,
   "metadata": {
    "collapsed": true
   },
   "outputs": [],
   "source": [
    "def create_random_mps(L,D,d):\n",
    "    mps = [0]*(L+1)                    # create empty list of fixed length!\n",
    "    mps[1] = np.random.rand(1,d,D)     # on site 1 and L we have d (1xD) and (Dx1) matrices to get a scalar\n",
    "    mps[L] = np.random.rand(D,d,1)     # quantum amplitude\n",
    "    for i in range(2, L):\n",
    "        mps[i] = np.random.rand(D,d,D) # at each site i create tensor with dimensions D,d,D i.e. d (DxD) matrices\n",
    "    return mps"
   ]
  },
  {
   "cell_type": "markdown",
   "metadata": {},
   "source": [
    "### Normalise the MPS on a specific site k, with option of right ('R') or left ('L') normalisation and input mps "
   ]
  },
  {
   "cell_type": "markdown",
   "metadata": {},
   "source": [
    "##### NOTE: For right canonical state need to normalise starting at site L, for left canonical at site 1 !!!!"
   ]
  },
  {
   "cell_type": "code",
   "execution_count": 18,
   "metadata": {
    "collapsed": true
   },
   "outputs": [],
   "source": [
    "def mpsnormalisation(mps, LR, k):\n",
    "    d = mps[k].shape     # get the dimensions of the mps/tensor train\n",
    "    if LR == 'L':               # left-normalise mps at site k i.e. M(k)M(k+1) = USVM(k+1) = A(k)SVM(k+1) = A(k)M(k+1)\n",
    "        if k < len(mps) - 1:\n",
    "            M = mps[k].reshape(d[0]*d[1],d[2])          #reshape 3 tensor into matrix\n",
    "            U, s, V = LA.svd(M, full_matrices=False)    # perform SVD decomposition on reshaped tensor\n",
    "            S = np.diag(s)\n",
    "            mps[k] = U.reshape(d[0],  d[1], U.shape[1]) # reassign reshaped U as newly normalised A_L matrix \n",
    "            mps[k+1] = np.tensordot(np.dot(S,V),mps[k+1], axes = ([1],[0])) #SV are tensormultiplied into M(k+1)\n",
    "        elif k == len(mps)-1:\n",
    "            M = mps[k].reshape(d[0]*d[1],d[2])          #reshape 3 tensor into matrix\n",
    "            U, s, V = LA.svd(M, full_matrices=False)    # perform SVD decomposition on reshaped tensor\n",
    "            S = np.diag(s)\n",
    "            ## C = np.dot(S,V)\n",
    "            ## C is 1x1 matrix i.e. a scalar that represents the norm of the state, so we can ignore C at the last \n",
    "            ## site L and ONLY assign U from SVD further to A_L to get normalised state.\n",
    "            mps[k] = U.reshape(d[0],  d[1], U.shape[1])# reassign reshaped U as newly normalised A_L matrix \n",
    "    elif LR == 'R':            # right-normalise mps at site l i.e. M(l-1)M(l) = M(l-1)USV = M(l-1)USB(l) = M(l-1)B(l)\n",
    "        if k > 1:\n",
    "            M = mps[k].reshape(d[0],d[1]*d[2])\n",
    "            U, s, V = LA.svd(M, full_matrices=False)\n",
    "            S = np.diag(s)\n",
    "            mps[k] = V.reshape(V.shape[0],d[1],d[2])\n",
    "            mps[k-1] = np.tensordot(mps[k-1],np.dot(U,S), axes = ([2],[0])) # last index of M(k-1) is multiplied into \n",
    "                                                                            # first of (US)\n",
    "        elif k == 1:\n",
    "            M = mps[k].reshape(d[0],d[1]*d[2])          #reshape 3 tensor into matrix\n",
    "            U, s, V = LA.svd(M, full_matrices=False)    # perform SVD decomposition on reshaped tensor\n",
    "            S = np.diag(s)\n",
    "            ## C = np.dot(U,S)\n",
    "            ## C is 1x1 matrix i.e. a scalar that represents the norm of the state, so we can ignore C at the first \n",
    "            ## site 1 and ONLY assign V from SVD further to B_1 to get normalised state.\n",
    "            mps[k] = V.reshape(V.shape[0],  d[1], d[2]) # reassign reshaped U as newly normalised A_L matrix \n",
    "    else:\n",
    "        print('Input L or R for left-/right normalisation')\n",
    "        #return mps"
   ]
  },
  {
   "cell_type": "code",
   "execution_count": 19,
   "metadata": {
    "collapsed": true
   },
   "outputs": [],
   "source": [
    "def mixedmps(mps,k):\n",
    "    for i in range(1,k):\n",
    "        mpsnormalisation(mps,'L',i)            # left normalise up to site k-1\n",
    "    for i in range(1,len(mps) - (k+2) + 1):    # Isolate the sites k and k+1 which are in the different A/B blocks\n",
    "        mpsnormalisation(mps,'R',len(mps)-i)   # right normalise down to site k+2, starting from site L\n",
    "    C = np.tensordot(mps[k],mps[k+1], axes([2],[0]))\n",
    "    d = C.shape\n",
    "    M = C.reshape(d[0]*d[1],d[2]*d[3])\n",
    "    U, s, V = LA.svd(M, full_matrices=False)\n",
    "    mps[k] = U.reshape(d[0],d[1],U.shape(1))\n",
    "    mps[k+1] = V.reshape(V.shape(0),d[1], d[2])"
   ]
  },
  {
   "cell_type": "markdown",
   "metadata": {
    "collapsed": true
   },
   "source": [
    "### Create MPO for the Heisenberg chain"
   ]
  },
  {
   "cell_type": "code",
   "execution_count": 20,
   "metadata": {
    "collapsed": true
   },
   "outputs": [],
   "source": [
    "# Create Heisenberg MPO\n",
    "def Heisenbergmpo(L,d, J, Jz, h):\n",
    "    # Define the Pauli matrices...only 2x2 because we have local dimension d = 2 in the Heisenberg chain (spin-1/2) \n",
    "    # NOTE: spin operators are 1/2*hbar*Paulimatrices!!!!!\n",
    "    Sx = 0.5*np.matrix([[0,1],[1,0]])\n",
    "    Sy = 0.5*np.matrix([[0,-1.0j],[1.0j,0]])\n",
    "    Sz = 0.5*np.matrix([[1,0],[0,-1]])\n",
    "    Splus  = Sx + 1.0j*Sy\n",
    "    Sminus = Sx - 1.0j*Sy\n",
    "    I = np.eye(d)            \n",
    "\n",
    "    mpo = [0]*(L+1)                          #create empty list for all 1-L physical sites (0 is dummy)\n",
    "    \n",
    "    # 5 is the dimension for this specific construction of the Heisenberg model so W is (5x5xdxd) tensor\n",
    "    # initialise W as zero-tensor...and put in [b_(i-1), b_(i)] components by hand\n",
    "    W = np.zeros((5,5,d,d), dtype = complex) # define as complex, else imaginary part of Splus/Sminus will be discarded\n",
    "    \n",
    "    W[0,0,:,:] = I\n",
    "    W[1,0,:,:] = Splus\n",
    "    W[2,0,:,:] = Sminus\n",
    "    W[3,0,:,:] = Sz\n",
    "    W[4,0,:,:] = -h*Sz\n",
    "    \n",
    "    W[4,1,:,:] = J/2.0*Sminus\n",
    "    W[4,2,:,:] = J/2.0*Splus\n",
    "    W[4,3,:,:] = Jz*Sz\n",
    "    W[4,4,:,:] = I\n",
    "    \n",
    "    for i in range(2,L):\n",
    "        mpo[i] = W\n",
    "\n",
    "    \n",
    "    mpo[1] = np.zeros((1,5,d,d), dtype = complex)\n",
    "    mpo[L] = np.zeros((5,1,d,d), dtype = complex)\n",
    "    mpo[1][0,:,:,:] = W[4,:,:,:]\n",
    "    mpo[L][:,0,:,:] = W[:,0,:,:]\n",
    "    return mpo"
   ]
  },
  {
   "cell_type": "code",
   "execution_count": 21,
   "metadata": {
    "collapsed": true
   },
   "outputs": [],
   "source": [
    "# Mpo for local magnetisation\n",
    "def magnetisation(L, d, n):\n",
    "    Sz = 0.5*np.matrix([[1,0],[0,-1]])\n",
    "    mpo = [0]*(L+1)\n",
    "    W = np.zeros((1,1,d,d,))\n",
    "    W[0,0,:,:] = np.identity(2)\n",
    "    S = np.zeros((1,1,d,d,))\n",
    "    S[0,0,:,:] = Sz\n",
    "    for i in range(1, L+1):\n",
    "        if i == n:\n",
    "            mpo[i] = S\n",
    "        else:\n",
    "            mpo[i] = W\n",
    "    return mpo"
   ]
  },
  {
   "cell_type": "code",
   "execution_count": 22,
   "metadata": {},
   "outputs": [
    {
     "name": "stdout",
     "output_type": "stream",
     "text": [
      "(1, 1, 2, 2)\n",
      "(1, 2, 2, 1, 2, 2)\n",
      "(1, 2, 2, 2, 2, 1, 2, 2)\n",
      "(1, 2, 2, 2, 2, 1, 2, 2)\n",
      "[[ True  True  True  True  True  True  True  True]\n",
      " [ True  True  True  True  True  True  True  True]\n",
      " [ True  True  True  True  True  True  True  True]\n",
      " [ True  True  True  True  True  True  True  True]\n",
      " [ True  True  True  True  True  True  True  True]\n",
      " [ True  True  True  True  True  True  True  True]\n",
      " [ True  True  True  True  True  True  True  True]\n",
      " [ True  True  True  True  True  True  True  True]]\n"
     ]
    }
   ],
   "source": [
    "M = magnetisation(3,2,2)\n",
    "m = M[1]\n",
    "print(m.shape)\n",
    "m = np.tensordot(m,M[2], axes = ([1],[0]))\n",
    "print(m.shape)\n",
    "m = np.tensordot(m,M[3], axes = ([3],[0]))\n",
    "print(m.shape)\n",
    "m = np.swapaxes(m, 2,3)\n",
    "m = np.swapaxes(m,3,6)\n",
    "m = np.swapaxes(m,6,4)\n",
    "print(m.shape)\n",
    "d = m.shape\n",
    "m = m.reshape(d[0]*d[1]*d[2]*d[3], d[4]*d[5]*d[6]*d[7])\n",
    "print(dagger(m) == m)\n",
    "#d = m.shape\n",
    "#m = m.reshape(d[0]*d[1]*d[3], d[2]*d[5]*d[4], d[6], d[7])"
   ]
  },
  {
   "cell_type": "markdown",
   "metadata": {},
   "source": [
    "### Create the L and R tensors for the eigenvalue equation "
   ]
  },
  {
   "cell_type": "code",
   "execution_count": 23,
   "metadata": {
    "collapsed": true
   },
   "outputs": [],
   "source": [
    "def initialiseLR(mps, mpo):\n",
    "    length = len(mps) # get the lenght of mps/mpo i.e. number of sites\n",
    "    \n",
    "    # define and initialise the F tensors to iteratively construct and update the LR tensors\n",
    "    F = [0]*(length+1) # create empty list of F tensors\n",
    "    F[0] = np.ones((1,1,1)) # initialise the first L tensor for convenience to 1\n",
    "    F[length] = np.ones((1,1,1)) # initialise the last R tensor for convenience to 1\n",
    "    for i in range(1,length):\n",
    "        # initialise the F tensors in the right shape\n",
    "        F[length-i] = np.zeros((mps[length-i].shape[2], mpo[length-i].shape[1], mps[length-i].shape[2]))\n",
    "        \n",
    "        #do the tensorproducts with optimal bracketing one after another: FB, WFB, F = BWFB \n",
    "        #FB  = np.zeros(np.tensordot(F[length+1-i], mps[length-i], axes = ([2],[2])).shape)\n",
    "        FB  = np.tensordot(F[length+1-i], mps[length-i], axes = ([2],[2]))\n",
    "        #WFB = np.zeros(np.tensordot(mpo[length-i], FB, axes = ([1,3],[1,3])).shape)\n",
    "        WFB = np.tensordot(mpo[length-i], FB, axes = ([1,3],[1,3]))\n",
    "        F[length-i] = np.tensordot(np.conjugate(mps[length-i]), WFB, axes = ([1,2],[1,2]))\n",
    "    \n",
    "    return F"
   ]
  },
  {
   "cell_type": "code",
   "execution_count": 24,
   "metadata": {
    "collapsed": true
   },
   "outputs": [],
   "source": [
    "def updateLR(F, mps, mpo, k, lr):\n",
    "    if lr == 'r':\n",
    "        # do the right step FA => WFA => L = F = AWFA\n",
    "        #FA  = np.zeros(np.tensordot(F[k-1], mps[k], axes = ([2],[0])).shape)\n",
    "        FA  = np.tensordot(F[k-1], mps[k], axes = ([2],[0]))\n",
    "        #WFA = np.zeros(np.tensordot(mpo[k], FA, axes = ([0,3],[1,2])).shape)\n",
    "        WFA = np.tensordot(mpo[k], FA, axes = ([0,3],[1,2]))\n",
    "        F[k] = np.tensordot(np.conjugate(mps[k]), WFA, axes = ([0,1],[2,1]))\n",
    "        \n",
    "        ## At right step define the new L and R tensor as F[k] and F[k+2]\n",
    "        L = F[k]\n",
    "        R = F[k+2] # this should NOT go out of bounds as for right sweep we start at site 1 and go up to site L-1\n",
    "        return L, R\n",
    "    elif lr == 'l':\n",
    "        # do the left step FB => WFB => R = F = BWFB\n",
    "        #FB  = np.zeros(np.tensordot(F[k+1], mps[k], axes = ([2],[2])).shape)\n",
    "        FB  = np.tensordot(F[k+1], mps[k], axes = ([2],[2]))\n",
    "        #WFB = np.zeros(np.tensordot(mpo[k], FB, axes = ([1,3],[1,3])).shape)\n",
    "        WFB = np.tensordot(mpo[k], FB, axes = ([1,3],[1,3]))\n",
    "        F[k] = np.tensordot(np.conjugate(mps[k]), WFB, axes = ([1,2],[1,2]))\n",
    "        \n",
    "        # At left step define the new L and R tensor as F[k-2] and F[k]\n",
    "        L = F[k-2] # this should NOT go out of bounds as for left sweep we start at site L and go down to site 2\n",
    "        R = F[k]\n",
    "        return L, R"
   ]
  },
  {
   "cell_type": "code",
   "execution_count": 48,
   "metadata": {
    "collapsed": true
   },
   "outputs": [],
   "source": [
    "def Heffoptimisation(mps, mpo, L, R, n, lr):\n",
    "    #WR = np.tensordot(mpo[k],F[k+1], axes = ([1],[1])) # contract W with R first\n",
    "    #Heff = np.tensordot(F[k-1], WR, axes = ([1],[0]))  # contract L with WR to get Heff = LWR\n",
    "    WR = np.tensordot(mpo[n],R, axes = ([1],[1])) # contract W with R first\n",
    "    Heff = np.tensordot(L, WR, axes = ([1],[0]))  # contract L with WR to get Heff = LWR\n",
    "    \n",
    "    ### Heff has indices a_(i-1) a'_(i-1) sigma_i sigma'_i a_(i) a'_(i)\n",
    "    ### Need to be careful to reshape correctly (such that the correct indices are put together)\n",
    "    ### To achieve this group the indices correctly BEFOREHAND with np.swapaxes\n",
    "    Heff = np.swapaxes(Heff, 1,2)  # swap  a'_(i-1) <=> sigma_i\n",
    "    Heff = np.swapaxes(Heff, 2,4)  # swap  a'_(i-1) <=> a_(i)\n",
    "    Heff = np.swapaxes(Heff, 3,4)  # swap  sigma'_i <=> a'_(i-1)\n",
    "    p = Heff.shape\n",
    "    \n",
    "    # Now reshape accordingly \n",
    "    Heff = Heff.reshape(p[0]*p[1]*p[2], p[3]*p[4]*p[5])       # reshape Heff into 2x2 matrix\n",
    "    \n",
    "    #yesno = (dagger(Heff) - Heff < 1e-14 )\n",
    "    #print(np.where(yesno == False))\n",
    "    \n",
    "    # Heff is a sparse matrix, so use eigs from sparse rather than LA.eig for speedup\n",
    "    #### Input initial Guess for speedup!!! ###\n",
    "    d = mps[n].shape\n",
    "    initialguess  = mps[n].reshape(d[0]*d[1]*d[2])\n",
    "    #print initialguess\n",
    "    E, v = sparse.linalg.eigsh(Heff, k=1, which = 'SA', maxiter=1000000, v0 = initialguess) #return_eigenvectors=True,  v0 = initialguess)\n",
    "    #E, x = LA.eig(Heff) #, k=1, which = 'SM' v0 = initialguess, return_eigenvectors=True)\n",
    "    #which = np.argmin(E)\n",
    "    #v = x[:,which]\n",
    "    \n",
    "    if lr == 'r':  # update for a right sweep\n",
    "        M = v.reshape(p[3]*p[4], p[5])\n",
    "        U, s, V = LA.svd(M, full_matrices=False)\n",
    "        S = np.diag(s)\n",
    "        mps[n] = U.reshape(p[3], p[4], U.shape[1]) # update mps at site k\n",
    "        mps[n+1] = np.tensordot(np.dot(S,V), mps[n+1], axes = ([1],[0]))\n",
    "    elif lr == 'l':  # update for a left sweep\n",
    "        M = v.reshape(p[3], p[4]*p[5])\n",
    "        U, s, V = LA.svd(M, full_matrices=False)\n",
    "        S = np.diag(s)\n",
    "        mps[n] = V.reshape(V.shape[0], p[4], p[5]) # update mps at site k\n",
    "        mps[n-1] = np.tensordot(mps[n-1], np.dot(U,S), axes = ([2],[0]))\n",
    "    return E, mps #[which], mps"
   ]
  },
  {
   "cell_type": "code",
   "execution_count": 49,
   "metadata": {
    "collapsed": true
   },
   "outputs": [],
   "source": [
    "def localmag(mps, mpo, L, R, n):\n",
    "    #print(mpo[n].shape, R.shape)\n",
    "    WR = np.tensordot(mpo[n],R, axes = ([1],[1])) # contract W with R first\n",
    "    #print(L.shape, WR.shape)\n",
    "    mag = np.tensordot(L, WR, axes = ([1],[0]))  # contract L with WR to get mag = LWR\n",
    "    ### Heff has indices a_(i-1) a'_(i-1) sigma_i sigma'_i a_(i) a'_(i)\n",
    "    ### Need to be careful to reshape correctly (such that the correct indices are put together)\n",
    "    ### To achieve this group the indices correctly BEFOREHAND with np.swapaxes\n",
    "    mag = np.swapaxes(mag, 1,2)  # swap  a'_(i-1) <=> sigma_i\n",
    "    mag = np.swapaxes(mag, 2,4)  # swap  a'_(i-1) <=> a_(i)\n",
    "    mag = np.swapaxes(mag, 3,4)  # swap  sigma'_i <=> a'_(i-1)\n",
    "    p = mag.shape\n",
    "    \n",
    "    # Now reshape accordingly \n",
    "    mag = mag.reshape(p[0]*p[1]*p[2], p[3]*p[4]*p[5])       # reshape mag into 2x2 matrix\n",
    "    \n",
    "    yesno = (dagger(mag) - mag < 1e-15 )\n",
    "    #print(np.where(yesno == False))\n",
    "    \n",
    "    d = mps[n].shape\n",
    "    vector = mps[n].reshape(d[0]*d[1]*d[2],1)\n",
    "    magnet = np.dot(dagger(vector), np.dot(mag,vector))\n",
    "    return magnet"
   ]
  },
  {
   "cell_type": "code",
   "execution_count": 58,
   "metadata": {},
   "outputs": [
    {
     "name": "stdout",
     "output_type": "stream",
     "text": [
      "heisenberg_magnetisationD30.txt\n"
     ]
    }
   ],
   "source": [
    "# number of sites, sweeps and D cutoff\n",
    "N = 20   \n",
    "sweeps = 10 \n",
    "cutoff = 30\n",
    "#site = 3\n",
    "\n",
    "#print('Look at local magnetisation on site ', site)\n",
    "filename = 'heisenberg_magnetisationD' + str(cutoff) + '.txt'\n",
    "#print filename\n",
    "f = open(filename, 'a')\n",
    "\n",
    "for D in range(30, cutoff + 20, 20):\n",
    "    cut = '\\n' + 'D:' + str(D) + '\\n'\n",
    "    f.write(cut)\n",
    "    #print D\n",
    "    \n",
    "    a = create_random_mps(N, D, 2)\n",
    "\n",
    "    # Normalise mps\n",
    "    for i in range(1, len(a)):\n",
    "        mpsnormalisation(a, 'L', i)\n",
    "    for i in range(1, len(a)):\n",
    "        mpsnormalisation(a, 'R', len(a)-i)\n",
    "\n",
    "    # Create Heisenberg mpo and initialise F (L and R) tensors\n",
    "    H = Heisenbergmpo(N, 2, 1, 1, 0)\n",
    "    #M = magnetisation(N, 2, site)\n",
    "    F = initialiseLR(a, H)\n",
    "    #f = initialiseLR(a, M)\n",
    "    \n",
    "    # Do several sweeps through the sites and optimise mps and energy\n",
    "    for p in range(1, sweeps+1):\n",
    "        sweep = 'sweep:' + str(p) + '\\n'\n",
    "        f.write(sweep)\n",
    "        #print sweep\n",
    "\n",
    "        for i in range(1, N):\n",
    "            #print i\n",
    "            if i == 1:\n",
    "                L = F[0]\n",
    "                R = F[2]\n",
    "                #left = f[0]\n",
    "                #right = f[2]\n",
    "\n",
    "            #if i == site:\n",
    "            #    magnet = localmag(a, M, left, right, i)\n",
    "            #    if np.absolute(np.imag(magnet[0,0])) < 1e-16:\n",
    "            #        print('magnetisation:', np.real(magnet[0,0]))\n",
    "            #    else:\n",
    "            #        print('magnetisation:', magnet[0,0])\n",
    "                \n",
    "            E, a = Heffoptimisation(a, H, L, R, i, 'r')  # right optimisation\n",
    "            L, R = updateLR(F, a, H, i, 'r')\n",
    "            #left, right = updateLR(f, a, M, i, 'r')\n",
    "\n",
    "        rightE = 'right: ' + str(float(E)) + '\\n'\n",
    "        f.write(rightE)\n",
    "        #print rightE\n",
    "\n",
    "        for i in range(1, N):\n",
    "            m = N+1-i\n",
    "            #print m\n",
    "            #if m == site:\n",
    "            #    magnet = localmag(a, M, left, right, m)\n",
    "            #    print('magnetisation:', magnet)\n",
    "                \n",
    "            E, a = Heffoptimisation(a, H, L, R, m, 'l')  # left optimisation\n",
    "            L, R = updateLR(F, a, H, m, 'l')\n",
    "            #left, right = updateLR(f, a, M, m, 'l')\n",
    "\n",
    "        leftE = 'left : ' + str(float(E)) + '\\n'\n",
    "        f.write(leftE)\n",
    "        #print leftE\n",
    "        del L, R\n",
    "        gc.collect()\n",
    "\n",
    "Sz = 0.5*np.matrix([[1,0],[0,-1]])\n",
    "for i in range(1, N+1):\n",
    "    #print i\n",
    "    if i == 1:\n",
    "        L = F[0]\n",
    "        R = F[2]\n",
    "        #left = f[0]\n",
    "        #right = f[2]\n",
    "\n",
    "    #if i == site:\n",
    "    #    magnet = localmag(a, M, left, right, i)\n",
    "    #    if np.absolute(np.imag(magnet[0,0])) < 1e-16:\n",
    "    #        print('magnetisation:', np.real(magnet[0,0]))\n",
    "    #    else:\n",
    "    #        print('magnetisation:', magnet[0,0])\n",
    "    \n",
    "    MM = np.tensordot(a[i], np.conjugate(a[i]), axes=([0, 2], [0, 2]))\n",
    "    magnetisation = np.tensordot(Sz, MM, axes=([0,1], [1, 0]))\n",
    "    if np.imag(magnetisation) < 1e-17:\n",
    "        f.write('Magnetisation on site ' + str(i) + ' is m = ' + str(float(np.real(magnetisation))) + '\\n')\n",
    "    else:\n",
    "        f.write('Magnetisation on site ' + str(i) + ' is m = ' + str(magnetisation) + '\\n')\n",
    "    \n",
    "    if i < N:\n",
    "        E, a = Heffoptimisation(a, H, L, R, i, 'r')  # right optimisation\n",
    "        L, R = updateLR(F, a, H, i, 'r')\n",
    "        #left, right = updateLR(f, a, M, i, 'r')\n",
    "\n",
    "f.close()"
   ]
  },
  {
   "cell_type": "code",
   "execution_count": null,
   "metadata": {
    "collapsed": true
   },
   "outputs": [],
   "source": []
  }
 ],
 "metadata": {
  "kernelspec": {
   "display_name": "Python 3",
   "language": "python",
   "name": "python3"
  },
  "language_info": {
   "codemirror_mode": {
    "name": "ipython",
    "version": 3
   },
   "file_extension": ".py",
   "mimetype": "text/x-python",
   "name": "python",
   "nbconvert_exporter": "python",
   "pygments_lexer": "ipython3",
   "version": "3.5.3"
  }
 },
 "nbformat": 4,
 "nbformat_minor": 1
}
