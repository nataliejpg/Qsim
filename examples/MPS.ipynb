{
 "cells": [
  {
   "cell_type": "code",
   "execution_count": 1,
   "metadata": {
    "collapsed": true
   },
   "outputs": [],
   "source": [
    "import numpy as np\n",
    "from MPS_code import *"
   ]
  },
  {
   "cell_type": "markdown",
   "metadata": {},
   "source": [
    "### Make state vectors"
   ]
  },
  {
   "cell_type": "code",
   "execution_count": 131,
   "metadata": {},
   "outputs": [
    {
     "name": "stdout",
     "output_type": "stream",
     "text": [
      "state a is 1.0+0.0j |0011>\n",
      "state b is 1.0+0.0j |0011>+ 1.0+0.0j |0100>+ 1.0+0.0j |1111>\n"
     ]
    }
   ],
   "source": [
    "num_of_qubits = 4\n",
    "size_of_space = 2**num_of_qubits\n",
    "state_vector_a = np.zeros(size_of_space, dtype=complex)\n",
    "state_vector_b = np.zeros(size_of_space, dtype=complex)\n",
    "state_vector_a[3] = 1\n",
    "state_vector_b[4] = 1\n",
    "state_vector_b[3] = 1\n",
    "state_vector_b[-1] = 1\n",
    "print('state a is ' + state_vectors_one_to_many(state_vector_a, as_str=True))\n",
    "print('state b is ' + state_vectors_one_to_many(state_vector_b, as_str=True))"
   ]
  },
  {
   "cell_type": "markdown",
   "metadata": {},
   "source": [
    "### Decompose into computational basis"
   ]
  },
  {
   "cell_type": "code",
   "execution_count": 132,
   "metadata": {},
   "outputs": [
    {
     "data": {
      "text/plain": [
       "array([[[ 1.+0.j,  0.+0.j],\n",
       "        [ 1.+0.j,  0.+0.j],\n",
       "        [ 0.+0.j,  1.+0.j],\n",
       "        [ 0.+0.j,  1.+0.j]]])"
      ]
     },
     "execution_count": 132,
     "metadata": {},
     "output_type": "execute_result"
    }
   ],
   "source": [
    "state_vectors_one_to_many(state_vector_a)"
   ]
  },
  {
   "cell_type": "markdown",
   "metadata": {},
   "source": [
    "### Create mps state from state vector or random and normalise"
   ]
  },
  {
   "cell_type": "code",
   "execution_count": 133,
   "metadata": {
    "collapsed": true
   },
   "outputs": [],
   "source": [
    "mps_a = create_specific_mps(state_vector_a)\n",
    "a = normalise_mps(mps_a, direction='L')\n",
    "mps_b = create_specific_mps(state_vector_b)\n",
    "b = normalise_mps(mps_b, direction='L')\n",
    "c = create_random_mps(num_of_qubits)"
   ]
  },
  {
   "cell_type": "code",
   "execution_count": 134,
   "metadata": {},
   "outputs": [
    {
     "name": "stdout",
     "output_type": "stream",
     "text": [
      "state a is 1.0+0.0j |0011>\n",
      "state b is 0.6+0.0j |0011>+ 0.6+0.0j |0100>+ 0.6+0.0j |1111>\n",
      "state c is 0.0+0.3j |0000>+ 0.1+0.3j |0001>+ -0.0+0.2j |0010>+ 0.1+0.2j |0011>+ 0.0+0.3j |0100>+ 0.1+0.3j |0101>+ -0.0+0.2j |0110>+ 0.1+0.2j |0111>+ -0.0+0.3j |1000>+ 0.1+0.3j |1001>+ -0.0+0.2j |1010>+ 0.0+0.2j |1011>+ -0.0+0.3j |1100>+ 0.1+0.3j |1101>+ -0.0+0.2j |1110>+ 0.1+0.1j |1111>\n"
     ]
    }
   ],
   "source": [
    "print('state a is ' + state_vectors_one_to_many(evaluate_mps(a), as_str=True))\n",
    "print('state b is ' + state_vectors_one_to_many(evaluate_mps(b), as_str=True))\n",
    "print('state c is ' + state_vectors_one_to_many(evaluate_mps(c), as_str=True))"
   ]
  },
  {
   "cell_type": "markdown",
   "metadata": {},
   "source": [
    "### Find overlap and state amplitutes"
   ]
  },
  {
   "cell_type": "code",
   "execution_count": 135,
   "metadata": {},
   "outputs": [
    {
     "data": {
      "text/plain": [
       "(0.57735026918962573+0j)"
      ]
     },
     "execution_count": 135,
     "metadata": {},
     "output_type": "execute_result"
    }
   ],
   "source": [
    "find_overlap_of_mps(a, b)"
   ]
  },
  {
   "cell_type": "code",
   "execution_count": 136,
   "metadata": {},
   "outputs": [
    {
     "data": {
      "text/plain": [
       "array([ 0.00000000+0.j,  0.00000000+0.j,  0.00000000+0.j,  0.57735027+0.j,\n",
       "        0.57735027+0.j,  0.00000000+0.j,  0.00000000+0.j,  0.00000000+0.j,\n",
       "        0.00000000+0.j,  0.00000000+0.j,  0.00000000+0.j,  0.00000000+0.j,\n",
       "        0.00000000+0.j,  0.00000000+0.j,  0.00000000+0.j,  0.57735027+0.j])"
      ]
     },
     "execution_count": 136,
     "metadata": {},
     "output_type": "execute_result"
    }
   ],
   "source": [
    "evaluate_mps(b)"
   ]
  },
  {
   "cell_type": "code",
   "execution_count": 137,
   "metadata": {},
   "outputs": [
    {
     "data": {
      "text/plain": [
       "(-0.013804910602883552+0.18707752422306842j)"
      ]
     },
     "execution_count": 137,
     "metadata": {},
     "output_type": "execute_result"
    }
   ],
   "source": [
    "evaluate_mps(c, [0, 1, 1, 0])"
   ]
  },
  {
   "cell_type": "markdown",
   "metadata": {},
   "source": [
    "### Compress mps"
   ]
  },
  {
   "cell_type": "code",
   "execution_count": 138,
   "metadata": {},
   "outputs": [
    {
     "data": {
      "text/plain": [
       "[(2, 1, 2), (2, 2, 4), (2, 4, 2), (2, 2, 1)]"
      ]
     },
     "execution_count": 138,
     "metadata": {},
     "output_type": "execute_result"
    }
   ],
   "source": [
    "[i.shape for i in b]"
   ]
  },
  {
   "cell_type": "code",
   "execution_count": 139,
   "metadata": {},
   "outputs": [
    {
     "name": "stdout",
     "output_type": "stream",
     "text": [
      "state b is -0.6+0.0j |0011>+ -0.6+0.0j |0100>+ -0.6+0.0j |1111>\n",
      "state c is -0.0-0.3j |0000>+ -0.1-0.3j |0001>+ 0.0-0.2j |0010>+ -0.1-0.2j |0011>+ -0.0-0.3j |0100>+ -0.1-0.3j |0101>+ 0.0-0.2j |0110>+ -0.1-0.2j |0111>+ 0.0-0.3j |1000>+ -0.1-0.3j |1001>+ 0.0-0.2j |1010>+ -0.0-0.2j |1011>+ 0.0-0.3j |1100>+ -0.1-0.3j |1101>+ 0.0-0.2j |1110>+ -0.1-0.1j |1111>\n"
     ]
    }
   ],
   "source": [
    "compressed_b = normalise_mps(b, direction='R', max_d=2)\n",
    "print('state b is ' + state_vectors_one_to_many(evaluate_mps(compressed_b), as_str=True))\n",
    "compressed_c = normalise_mps(c, direction='R', max_d=2)\n",
    "print('state c is ' + state_vectors_one_to_many(evaluate_mps(compressed_c), as_str=True))"
   ]
  },
  {
   "cell_type": "code",
   "execution_count": 140,
   "metadata": {},
   "outputs": [
    {
     "data": {
      "text/plain": [
       "[(2, 1, 2), (2, 2, 2), (2, 2, 2), (2, 2, 1)]"
      ]
     },
     "execution_count": 140,
     "metadata": {},
     "output_type": "execute_result"
    }
   ],
   "source": [
    "[i.shape for i in compressed_b]"
   ]
  },
  {
   "cell_type": "code",
   "execution_count": 141,
   "metadata": {},
   "outputs": [
    {
     "data": {
      "text/plain": [
       "0.99999684324896432"
      ]
     },
     "execution_count": 141,
     "metadata": {},
     "output_type": "execute_result"
    }
   ],
   "source": [
    "abs(find_overlap_of_mps(c, compressed_c))"
   ]
  },
  {
   "cell_type": "code",
   "execution_count": 142,
   "metadata": {},
   "outputs": [
    {
     "data": {
      "text/plain": [
       "(-0.57735026918962573+0j)"
      ]
     },
     "execution_count": 142,
     "metadata": {},
     "output_type": "execute_result"
    }
   ],
   "source": [
    "find_overlap_of_mps(a, compressed_b)"
   ]
  },
  {
   "cell_type": "markdown",
   "metadata": {},
   "source": [
    "### Create Hamiltonian MPOs and find expectation values"
   ]
  },
  {
   "cell_type": "code",
   "execution_count": 143,
   "metadata": {
    "collapsed": true
   },
   "outputs": [],
   "source": [
    "mpo_mag = create_magnetisation_mpo(4, 0)"
   ]
  },
  {
   "cell_type": "code",
   "execution_count": 144,
   "metadata": {
    "collapsed": true
   },
   "outputs": [],
   "source": [
    "d = do_mpo_on_mps(mpo_mag, b)"
   ]
  },
  {
   "cell_type": "code",
   "execution_count": 145,
   "metadata": {},
   "outputs": [
    {
     "name": "stdout",
     "output_type": "stream",
     "text": [
      "state d is 0.3+0.0j |0011>+ 0.3+0.0j |0100>+ -0.3+0.0j |1111>\n"
     ]
    }
   ],
   "source": [
    "print('state d is ' + state_vectors_one_to_many(evaluate_mps(d), as_str=True))"
   ]
  },
  {
   "cell_type": "code",
   "execution_count": 146,
   "metadata": {},
   "outputs": [
    {
     "data": {
      "text/plain": [
       "0.16666666666666671"
      ]
     },
     "execution_count": 146,
     "metadata": {},
     "output_type": "execute_result"
    }
   ],
   "source": [
    "abs(find_overlap_of_mps(b, d))"
   ]
  },
  {
   "cell_type": "code",
   "execution_count": 149,
   "metadata": {
    "collapsed": true
   },
   "outputs": [],
   "source": [
    "mpo_heis = create_heisenberg_mpo(4, 2, 0.5, 3)"
   ]
  },
  {
   "cell_type": "code",
   "execution_count": 154,
   "metadata": {},
   "outputs": [
    {
     "name": "stdout",
     "output_type": "stream",
     "text": [
      "state e is 0.8+0.0j |0011>+ 1.0+0.0j |0101>\n"
     ]
    }
   ],
   "source": [
    "e = do_mpo_on_mps(mpo_heis, a)\n",
    "print('state e is ' + state_vectors_one_to_many(evaluate_mps(e), as_str=True))"
   ]
  },
  {
   "cell_type": "code",
   "execution_count": 160,
   "metadata": {},
   "outputs": [
    {
     "name": "stdout",
     "output_type": "stream",
     "text": [
      "state f is 0.6+0.0j |0011>+ 0.8+0.0j |0101>\n"
     ]
    }
   ],
   "source": [
    "f = normalise_mps(e, direction='R')\n",
    "print('state f is ' + state_vectors_one_to_many(evaluate_mps(f), as_str=True))"
   ]
  },
  {
   "cell_type": "code",
   "execution_count": 163,
   "metadata": {},
   "outputs": [
    {
     "data": {
      "text/plain": [
       "0.59999999999999987"
      ]
     },
     "execution_count": 163,
     "metadata": {},
     "output_type": "execute_result"
    }
   ],
   "source": [
    "abs(find_overlap_of_mps(f, a))"
   ]
  },
  {
   "cell_type": "markdown",
   "metadata": {},
   "source": [
    "### Create Unitary MPOs and find expectation_values"
   ]
  },
  {
   "cell_type": "code",
   "execution_count": 166,
   "metadata": {
    "collapsed": true
   },
   "outputs": [],
   "source": [
    "mpo_heis_u = create_heisenberg_unitary_mpo(4, 2, 0, 0, 1)"
   ]
  },
  {
   "cell_type": "code",
   "execution_count": 167,
   "metadata": {
    "collapsed": true
   },
   "outputs": [],
   "source": [
    "e = do_mpo_on_mps(mpo_heis_u, a)"
   ]
  },
  {
   "cell_type": "code",
   "execution_count": 168,
   "metadata": {
    "collapsed": true
   },
   "outputs": [],
   "source": [
    "new_e = normalise_mps(e, direction='R')"
   ]
  },
  {
   "cell_type": "code",
   "execution_count": 23,
   "metadata": {},
   "outputs": [
    {
     "name": "stdout",
     "output_type": "stream",
     "text": [
      "state a is 1.0+0.0j |011>\n"
     ]
    }
   ],
   "source": [
    "print('state a is ' + state_vectors_one_to_many(evaluate_mps(a), as_str=True))"
   ]
  },
  {
   "cell_type": "code",
   "execution_count": 24,
   "metadata": {},
   "outputs": [
    {
     "name": "stdout",
     "output_type": "stream",
     "text": [
      "state new_e is -0.8+0.0j |011>+ 0.6+0.0j |101>\n"
     ]
    }
   ],
   "source": [
    "print('state new_e is ' + state_vectors_one_to_many(evaluate_mps(new_e), as_str=True))"
   ]
  },
  {
   "cell_type": "code",
   "execution_count": 25,
   "metadata": {},
   "outputs": [
    {
     "data": {
      "text/plain": [
       "1.0000000000000004"
      ]
     },
     "execution_count": 25,
     "metadata": {},
     "output_type": "execute_result"
    }
   ],
   "source": [
    "abs(find_overlap_of_mps(new_e, new_e))"
   ]
  },
  {
   "cell_type": "code",
   "execution_count": 26,
   "metadata": {},
   "outputs": [
    {
     "data": {
      "text/plain": [
       "1.8027756377319946"
      ]
     },
     "execution_count": 26,
     "metadata": {},
     "output_type": "execute_result"
    }
   ],
   "source": [
    "np.sqrt(abs(find_overlap_of_mps(e, e)))"
   ]
  },
  {
   "cell_type": "code",
   "execution_count": 27,
   "metadata": {},
   "outputs": [
    {
     "data": {
      "text/plain": [
       "3.25"
      ]
     },
     "execution_count": 27,
     "metadata": {},
     "output_type": "execute_result"
    }
   ],
   "source": [
    "abs(find_overlap_of_mps(e, e))"
   ]
  },
  {
   "cell_type": "code",
   "execution_count": 28,
   "metadata": {},
   "outputs": [
    {
     "name": "stdout",
     "output_type": "stream",
     "text": [
      "initial_state 1.0+0.0j |011>\n",
      "0 state is -0.8+0.0j |011>+ 0.6+0.0j |101>\n",
      "1 state is 0.7+0.0j |011>+ -0.7-0.0j |101>+ 0.2+0.0j |110>\n",
      "2 state is 0.6+0.0j |011>+ -0.7-0.0j |101>+ 0.4+0.0j |110>\n",
      "3 state is -0.6-0.0j |011>+ 0.7-0.0j |101>+ -0.4+0.0j |110>\n",
      "4 state is -0.5-0.0j |011>+ 0.7-0.0j |101>+ -0.5+0.0j |110>\n"
     ]
    }
   ],
   "source": [
    "do_evolution(a, [mpo_heis_u], 5, max_d=8)"
   ]
  },
  {
   "cell_type": "code",
   "execution_count": null,
   "metadata": {
    "collapsed": true
   },
   "outputs": [],
   "source": []
  }
 ],
 "metadata": {
  "kernelspec": {
   "display_name": "Python 3",
   "language": "python",
   "name": "python3"
  },
  "language_info": {
   "codemirror_mode": {
    "name": "ipython",
    "version": 3
   },
   "file_extension": ".py",
   "mimetype": "text/x-python",
   "name": "python",
   "nbconvert_exporter": "python",
   "pygments_lexer": "ipython3",
   "version": "3.5.3"
  }
 },
 "nbformat": 4,
 "nbformat_minor": 2
}
